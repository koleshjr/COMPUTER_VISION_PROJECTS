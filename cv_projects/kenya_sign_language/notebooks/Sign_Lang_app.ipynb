{
  "nbformat": 4,
  "nbformat_minor": 0,
  "metadata": {
    "colab": {
      "provenance": [],
      "authorship_tag": "ABX9TyO/OdmrRCnZTS6OP9EWDg1P",
      "include_colab_link": true
    },
    "kernelspec": {
      "name": "python3",
      "display_name": "Python 3"
    },
    "language_info": {
      "name": "python"
    }
  },
  "cells": [
    {
      "cell_type": "markdown",
      "metadata": {
        "id": "view-in-github",
        "colab_type": "text"
      },
      "source": [
        "<a href=\"https://colab.research.google.com/github/koleshjr/KENYAN-SIGN-LANGUAGE-CLASSIFICATION/blob/main/Sign_Lang_app.ipynb\" target=\"_parent\"><img src=\"https://colab.research.google.com/assets/colab-badge.svg\" alt=\"Open In Colab\"/></a>"
      ]
    },
    {
      "cell_type": "markdown",
      "source": [
        "## KENYA SIGN LANGUAGE INTERPRETTER"
      ],
      "metadata": {
        "id": "pCqc4whs6yUC"
      }
    },
    {
      "cell_type": "code",
      "source": [
        "# !pip install gradio\n",
        "# !pip install -U albumentations\n",
        "# !pip install -U albumentations\n",
        "# !pip install opencv-python==4.5.4.60\n",
        "# !pip install timm==0.6.2.dev0"
      ],
      "metadata": {
        "id": "IgoKOwoy8YrL"
      },
      "execution_count": null,
      "outputs": []
    },
    {
      "cell_type": "code",
      "source": [
        "#Start by connecting gdrive into the google colab\n",
        "\n",
        "from google.colab import drive\n",
        "\n",
        "drive.mount('/content/gdrive')\n",
        "path = '/content/gdrive/MyDrive/sign_prediction/'"
      ],
      "metadata": {
        "colab": {
          "base_uri": "https://localhost:8080/"
        },
        "id": "95QicSsrNvry",
        "outputId": "be0c2146-d659-43d1-ef92-ac4d6874d437"
      },
      "execution_count": null,
      "outputs": [
        {
          "output_type": "stream",
          "name": "stdout",
          "text": [
            "Mounted at /content/gdrive\n"
          ]
        }
      ]
    },
    {
      "cell_type": "code",
      "source": [
        "import gradio as gr\n",
        "from fastai.vision.all import *\n",
        "import skimage\n",
        "import pathlib\n",
        "from PIL import Image\n",
        "import albumentations\n",
        "from albumentations.pytorch import ToTensorV2\n",
        "import timm"
      ],
      "metadata": {
        "id": "2QBKu19I626u"
      },
      "execution_count": null,
      "outputs": []
    },
    {
      "cell_type": "code",
      "source": [
        "plt = platform.system()\n",
        "if plt == 'Linux':\n",
        "  pathlib.WindowsPath = pathlib.PosixPath"
      ],
      "metadata": {
        "id": "_9EjgEVc8MB8"
      },
      "execution_count": null,
      "outputs": []
    },
    {
      "cell_type": "code",
      "source": [
        "!unzip -o -q /content/gdrive/MyDrive/sign_prediction/ModImages -d Images/ "
      ],
      "metadata": {
        "id": "MJ7KtRQmRbxI"
      },
      "execution_count": null,
      "outputs": []
    },
    {
      "cell_type": "code",
      "source": [
        "class AlbumentationsTransform (RandTransform):\n",
        "    split_idx,order=None,2\n",
        "    def __init__(self, train_aug, valid_aug): store_attr()\n",
        "    \n",
        "    def before_call(self, b, split_idx):\n",
        "        self.idx = split_idx\n",
        "    \n",
        "    def encodes(self, img: PILImage):\n",
        "        if self.idx == 0:\n",
        "            aug_img = self.train_aug(image=np.array(img))['image']\n",
        "        else:\n",
        "            aug_img = self.valid_aug(image=np.array(img))['image']\n",
        "        return PILImage.create(aug_img)\n",
        "\n",
        "def get_valid_aug(): return albumentations.Compose([\n",
        "            albumentations.Resize(224, 224),\n",
        "            ], p=1.0)\n"
      ],
      "metadata": {
        "id": "ASnktvhTQSFm"
      },
      "execution_count": null,
      "outputs": []
    },
    {
      "cell_type": "code",
      "source": [
        "learn = load_learner('/content/gdrive/MyDrive/sign_prediction/ksl_model.pkl')\n",
        "\n",
        "labels = learn.dls.vocab\n",
        "\n",
        "def predict(img):\n",
        "  img = PILImage.create(img)\n",
        "  pred,pred_idx,probs = learn.predict(img)\n",
        "\n",
        "  return {labels[i]: float(probs[i]) for i in range(len(labels))}"
      ],
      "metadata": {
        "id": "WeOlFBHc8bqA"
      },
      "execution_count": null,
      "outputs": []
    },
    {
      "cell_type": "code",
      "source": [
        "title = \"Kenya Sign Language Interpreter\"\n",
        "description = '''A Kenya Sign Language interpreter powered by a finetuned VIT transformer and built using fastai framework.\n",
        "A common misconception of sign language is that it is the same everywhere; \n",
        "in reality there are as many as 300 different languages (approximately 50 of these from Africa) with new signs evolving each day as a need appears.\n",
        " Kenyan Sign Language (KSL) is used in Kenya and Somalia, and there are different dialects depending on what region you are in.\n",
        " It is used by over half of Kenya's estimated 600 000-strong deaf population.\n",
        " Created using Gradio and Hugging face spaces. At the moment it only supports 9 different classes '''\n",
        "\n",
        "examples = [['/content/Images/content/ModImages/ImageID_USRB8QNG.jpg'],\n",
        "            ['/content/Images/content/ModImages/ImageID_SZ8D1ZJI.jpg'],\n",
        "            ['/content/Images/content/ModImages/ImageID_4OJO2F8J.jpg']]\n",
        "enable_queue = True"
      ],
      "metadata": {
        "id": "wyUJh9hz87uW"
      },
      "execution_count": null,
      "outputs": []
    },
    {
      "cell_type": "code",
      "source": [
        "gr.Interface (fn= predict,\n",
        "              inputs=gr.inputs.Image(shape = (224,224)), \n",
        "              outputs= gr.outputs.Label(num_top_classes =3),\n",
        "              title = title,\n",
        "              description = description,\n",
        "              examples = examples,\n",
        "              flagging_options=[\"Incorrect Prediction\", \"Blurry Photo\"],\n",
        "              enable_queue = enable_queue).launch(debug = True)"
      ],
      "metadata": {
        "id": "5i1QwCCV9356",
        "colab": {
          "base_uri": "https://localhost:8080/",
          "height": 816
        },
        "outputId": "27502fe0-294e-431c-9014-b70dc73f85f5"
      },
      "execution_count": null,
      "outputs": [
        {
          "output_type": "stream",
          "name": "stderr",
          "text": [
            "/usr/local/lib/python3.8/dist-packages/gradio/inputs.py:257: UserWarning: Usage of gradio.inputs is deprecated, and will not be supported in the future, please import your component from gradio.components\n",
            "  warnings.warn(\n",
            "/usr/local/lib/python3.8/dist-packages/gradio/deprecation.py:40: UserWarning: `optional` parameter is deprecated, and it has no effect\n",
            "  warnings.warn(value)\n",
            "/usr/local/lib/python3.8/dist-packages/gradio/outputs.py:197: UserWarning: Usage of gradio.outputs is deprecated, and will not be supported in the future, please import your components from gradio.components\n",
            "  warnings.warn(\n",
            "/usr/local/lib/python3.8/dist-packages/gradio/deprecation.py:40: UserWarning: The 'type' parameter has been deprecated. Use the Number component instead.\n",
            "  warnings.warn(value)\n",
            "/usr/local/lib/python3.8/dist-packages/gradio/deprecation.py:40: UserWarning: `enable_queue` is deprecated in `Interface()`, please use it within `launch()` instead.\n",
            "  warnings.warn(value)\n"
          ]
        },
        {
          "output_type": "stream",
          "name": "stdout",
          "text": [
            "Colab notebook detected. This cell will run indefinitely so that you can see errors and logs. To turn off, set debug=False in launch().\n",
            "Note: opening Chrome Inspector may crash demo inside Colab notebooks.\n",
            "\n",
            "To create a public link, set `share=True` in `launch()`.\n"
          ]
        },
        {
          "output_type": "display_data",
          "data": {
            "text/plain": [
              "<IPython.core.display.Javascript object>"
            ],
            "application/javascript": [
              "(async (port, path, width, height, cache, element) => {\n",
              "                        if (!google.colab.kernel.accessAllowed && !cache) {\n",
              "                            return;\n",
              "                        }\n",
              "                        element.appendChild(document.createTextNode(''));\n",
              "                        const url = await google.colab.kernel.proxyPort(port, {cache});\n",
              "\n",
              "                        const external_link = document.createElement('div');\n",
              "                        external_link.innerHTML = `\n",
              "                            <div style=\"font-family: monospace; margin-bottom: 0.5rem\">\n",
              "                                Running on <a href=${new URL(path, url).toString()} target=\"_blank\">\n",
              "                                    https://localhost:${port}${path}\n",
              "                                </a>\n",
              "                            </div>\n",
              "                        `;\n",
              "                        element.appendChild(external_link);\n",
              "\n",
              "                        const iframe = document.createElement('iframe');\n",
              "                        iframe.src = new URL(path, url).toString();\n",
              "                        iframe.height = height;\n",
              "                        iframe.allow = \"autoplay; camera; microphone; clipboard-read; clipboard-write;\"\n",
              "                        iframe.width = width;\n",
              "                        iframe.style.border = 0;\n",
              "                        element.appendChild(iframe);\n",
              "                    })(7860, \"/\", \"100%\", 500, false, window.element)"
            ]
          },
          "metadata": {}
        },
        {
          "output_type": "display_data",
          "data": {
            "text/plain": [
              "<IPython.core.display.HTML object>"
            ],
            "text/html": [
              "\n",
              "<style>\n",
              "    /* Turns off some styling */\n",
              "    progress {\n",
              "        /* gets rid of default border in Firefox and Opera. */\n",
              "        border: none;\n",
              "        /* Needs to be in here for Safari polyfill so background images work as expected. */\n",
              "        background-size: auto;\n",
              "    }\n",
              "    progress:not([value]), progress:not([value])::-webkit-progress-bar {\n",
              "        background: repeating-linear-gradient(45deg, #7e7e7e, #7e7e7e 10px, #5c5c5c 10px, #5c5c5c 20px);\n",
              "    }\n",
              "    .progress-bar-interrupted, .progress-bar-interrupted::-webkit-progress-bar {\n",
              "        background: #F44336;\n",
              "    }\n",
              "</style>\n"
            ]
          },
          "metadata": {}
        },
        {
          "output_type": "display_data",
          "data": {
            "text/plain": [
              "<IPython.core.display.HTML object>"
            ],
            "text/html": []
          },
          "metadata": {}
        }
      ]
    },
    {
      "cell_type": "code",
      "source": [],
      "metadata": {
        "id": "jf0wsT4cRtUr"
      },
      "execution_count": null,
      "outputs": []
    }
  ]
}